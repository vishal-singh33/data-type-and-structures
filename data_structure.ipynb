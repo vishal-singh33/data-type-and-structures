{
  "nbformat": 4,
  "nbformat_minor": 0,
  "metadata": {
    "colab": {
      "provenance": []
    },
    "kernelspec": {
      "name": "python3",
      "display_name": "Python 3"
    },
    "language_info": {
      "name": "python"
    }
  },
  "cells": [
    {
      "cell_type": "markdown",
      "source": [
        "1. **What are data structures, and why are they importan?**\n",
        "    ans:-Data structures are organized way to store, manage and retrieve data efficiently. they are the foundation of writing optimized and saclable code in programming and are used in everything from simple applications to advance system like operating system, database and AI."
      ],
      "metadata": {
        "id": "he-AZPOWVH4g"
      }
    },
    {
      "cell_type": "markdown",
      "source": [
        "2.**Explain the difference between mutable and immutable data types with examples.**\n",
        "      and:-1.mutable data can be modified after creation but immutable data cannot be changed after creation.\n",
        "      2.mutable data are changes and reflected in the same object but in immutable data new object is created for any changes.\n",
        "      3.mutable data are list,dictionary and set but immutable data are integer, float, string and tuple\n"
      ],
      "metadata": {
        "id": "PsrIb8cHVH9E"
      }
    },
    {
      "cell_type": "code",
      "source": [
        "# mutable data type example\n",
        "fruits = [\"apple\", \"guava\", \"banana\"]\n",
        "fruits[1] = \"grapes\"\n",
        "print(fruits)"
      ],
      "metadata": {
        "colab": {
          "base_uri": "https://localhost:8080/"
        },
        "id": "f_NQbHJPaXJu",
        "outputId": "bcd2e976-9b93-4e67-95e8-f7ba4b96a5a2"
      },
      "execution_count": 1,
      "outputs": [
        {
          "output_type": "stream",
          "name": "stdout",
          "text": [
            "['apple', 'grapes', 'banana']\n"
          ]
        }
      ]
    },
    {
      "cell_type": "markdown",
      "source": [],
      "metadata": {
        "id": "9eC3iFs_VIF7"
      }
    },
    {
      "cell_type": "code",
      "source": [
        "# immutable data type example\n",
        "name = \"vishal\"\n",
        "name[0] = \"v\" # this will through an error.\n",
        "print(name)"
      ],
      "metadata": {
        "colab": {
          "base_uri": "https://localhost:8080/",
          "height": 193
        },
        "id": "f_jIHN-HbU70",
        "outputId": "8e46d996-7a98-491a-dc04-703e0ff5701e"
      },
      "execution_count": 5,
      "outputs": [
        {
          "output_type": "error",
          "ename": "TypeError",
          "evalue": "'str' object does not support item assignment",
          "traceback": [
            "\u001b[0;31m---------------------------------------------------------------------------\u001b[0m",
            "\u001b[0;31mTypeError\u001b[0m                                 Traceback (most recent call last)",
            "\u001b[0;32m/tmp/ipython-input-5-3175505125.py\u001b[0m in \u001b[0;36m<cell line: 0>\u001b[0;34m()\u001b[0m\n\u001b[1;32m      1\u001b[0m \u001b[0;31m# immutable data type example\u001b[0m\u001b[0;34m\u001b[0m\u001b[0;34m\u001b[0m\u001b[0m\n\u001b[1;32m      2\u001b[0m \u001b[0mname\u001b[0m \u001b[0;34m=\u001b[0m \u001b[0;34m\"vishal\"\u001b[0m\u001b[0;34m\u001b[0m\u001b[0;34m\u001b[0m\u001b[0m\n\u001b[0;32m----> 3\u001b[0;31m \u001b[0mname\u001b[0m\u001b[0;34m[\u001b[0m\u001b[0;36m0\u001b[0m\u001b[0;34m]\u001b[0m \u001b[0;34m=\u001b[0m \u001b[0;34m\"v\"\u001b[0m \u001b[0;31m# this will through an error.\u001b[0m\u001b[0;34m\u001b[0m\u001b[0;34m\u001b[0m\u001b[0m\n\u001b[0m\u001b[1;32m      4\u001b[0m \u001b[0mprint\u001b[0m\u001b[0;34m(\u001b[0m\u001b[0mname\u001b[0m\u001b[0;34m)\u001b[0m\u001b[0;34m\u001b[0m\u001b[0;34m\u001b[0m\u001b[0m\n",
            "\u001b[0;31mTypeError\u001b[0m: 'str' object does not support item assignment"
          ]
        }
      ]
    },
    {
      "cell_type": "markdown",
      "source": [
        "3.**What are the main differences between lists and tuples in Python**\n",
        "     ans:-in python list is mutable but tuple is immutable\n",
        "     in list we use square bracket[] but in tuple we use parentheses()\n",
        "     in list we can append and remove but in tuple fewer coumt, index only\n",
        "     in list we can modify data but in tuple we cannot modify data\n",
        "     list use more memory but tuple use less memory\n",
        "     use a list when you need a dynemic, changable collection of items, but use a tuple when you want a immutable data like coordinated, config settin."
      ],
      "metadata": {
        "id": "u7kGbcBEVILQ"
      }
    },
    {
      "cell_type": "markdown",
      "source": [
        "4.**Describe how dictionaries store data**\n",
        "     ans:- a dictionary in python is a collection of key value pairs where each key is unique and is used to access its corresponding value under the hood python use a hash tabletp store and manage these pairs.\n",
        "     key must be immutable and values can be any data type even lists or other dic."
      ],
      "metadata": {
        "id": "IAEfdohtVIOY"
      }
    },
    {
      "cell_type": "markdown",
      "source": [
        "5.**Why might you use a set instead of a list in Python**\n",
        "      ans:- you might use a set intead of a list in python when you care about uniqueness and performance especially for membership checks and eliminating duplicates.\n",
        "      list allows duplicates but set not\n",
        "      use set when you want unique element fast membership testing and set based operators"
      ],
      "metadata": {
        "id": "GoAsT4k2VIRI"
      }
    },
    {
      "cell_type": "markdown",
      "source": [
        "6.**What is a string in Python, and how is it different from a list**\n",
        "     ans:-a string is a fixed sequence of cheracters, while a list is a flexible sequence of item that you can change add to or remove from.\n",
        "     use string while handling plain text and read only cheracter sequence but use list when grouping mix data and modifying contents"
      ],
      "metadata": {
        "id": "eadvucREVIXJ"
      }
    },
    {
      "cell_type": "markdown",
      "source": [
        "7.**How do tuples ensure data integrity in Python**\n",
        "    ans:- a tuple is an immutable sequence type which means once its created its value cannot be change added or delete\n",
        "    safe to use as keys in map deictionaryes and great for cocsistency cpmpact data storage.track historical records safely store snapshot of dat\n",
        "    "
      ],
      "metadata": {
        "id": "w8Cu7FfgVIhq"
      }
    },
    {
      "cell_type": "markdown",
      "source": [
        "8.**What is a hash table, and how does it relate to dictionaries in Python**\n",
        "       ans\"-a hash table is a data structure that stored key value pairs and allow fast data access useing a hash function.\n",
        "       a dictinory in python is a high level user friendaly weapper arround a hash table data structure. uses hasting to store and retrieve data quickly.ensures data is unique by key and safely store"
      ],
      "metadata": {
        "id": "xVs7vGgmm7Fh"
      }
    },
    {
      "cell_type": "markdown",
      "source": [
        "9.**Can lists contain different data types in Python**\n",
        "     ans:-  yes a list in python can contain different type of data.\n",
        "     pyhthon list are hetrerogeneous meaning there can hold a mix of\n",
        "     integer(int), strings(str), floats(float),booleans(bool)\n",
        "     other list tuple dict etc."
      ],
      "metadata": {
        "id": "ZGNs7Xmom7Ut"
      }
    },
    {
      "cell_type": "markdown",
      "source": [
        "10.**Explain why strings are immutable in Python**\n",
        "      ans:-in python string are immutable which means once a string is created it can not be changed.\n",
        "      you cannot modify insert or delete cherectors in the original sting directly.\n"
      ],
      "metadata": {
        "id": "w0SRY0Usm7YD"
      }
    },
    {
      "cell_type": "markdown",
      "source": [],
      "metadata": {
        "id": "_pB4zZjjm7aW"
      }
    },
    {
      "cell_type": "code",
      "source": [
        "name = \"vishal\"\n",
        "name[0] = \"v\" #this will through an error\n"
      ],
      "metadata": {
        "colab": {
          "base_uri": "https://localhost:8080/",
          "height": 158
        },
        "id": "7996xGjhuKp8",
        "outputId": "d1ef7834-7501-4c74-b1b0-d0e77eac5789"
      },
      "execution_count": 6,
      "outputs": [
        {
          "output_type": "error",
          "ename": "TypeError",
          "evalue": "'str' object does not support item assignment",
          "traceback": [
            "\u001b[0;31m---------------------------------------------------------------------------\u001b[0m",
            "\u001b[0;31mTypeError\u001b[0m                                 Traceback (most recent call last)",
            "\u001b[0;32m/tmp/ipython-input-6-68454321.py\u001b[0m in \u001b[0;36m<cell line: 0>\u001b[0;34m()\u001b[0m\n\u001b[1;32m      1\u001b[0m \u001b[0mname\u001b[0m \u001b[0;34m=\u001b[0m \u001b[0;34m\"vishal\"\u001b[0m\u001b[0;34m\u001b[0m\u001b[0;34m\u001b[0m\u001b[0m\n\u001b[0;32m----> 2\u001b[0;31m \u001b[0mname\u001b[0m\u001b[0;34m[\u001b[0m\u001b[0;36m0\u001b[0m\u001b[0;34m]\u001b[0m \u001b[0;34m=\u001b[0m \u001b[0;34m\"v\"\u001b[0m \u001b[0;31m#this will through an error\u001b[0m\u001b[0;34m\u001b[0m\u001b[0;34m\u001b[0m\u001b[0m\n\u001b[0m",
            "\u001b[0;31mTypeError\u001b[0m: 'str' object does not support item assignment"
          ]
        }
      ]
    },
    {
      "cell_type": "markdown",
      "source": [],
      "metadata": {
        "id": "OI97UB-Fm7cN"
      }
    },
    {
      "cell_type": "code",
      "source": [
        "name = \"vishal\"\n",
        "new_name = \"b\" + name[1:]\n",
        "print(new_name)  # this is a correct form"
      ],
      "metadata": {
        "colab": {
          "base_uri": "https://localhost:8080/"
        },
        "id": "o6_uQaW-u5yU",
        "outputId": "a640884c-2ee6-4d67-a785-daf5955d571d"
      },
      "execution_count": 7,
      "outputs": [
        {
          "output_type": "stream",
          "name": "stdout",
          "text": [
            "bishal\n"
          ]
        }
      ]
    },
    {
      "cell_type": "markdown",
      "source": [
        "11.**What advantages do dictionaries offer over lists for certain tasks**\n",
        "     ans:- dictionary are better when: you need fast access by a key , you want to store named values , you care about uniqueness of identifires.\n",
        "     lists are better when:you need orderd,indexed, or repeat elements.\n",
        "     "
      ],
      "metadata": {
        "id": "l1qzv4-ivhe-"
      }
    },
    {
      "cell_type": "markdown",
      "source": [
        "12.**Describe a scenario where using a tuple would be preferable over a list**\n",
        "       and:-imagine you are developing a maping application, you need to store latitude and longitutde for specific location, and these values should never changes once set.\n",
        "       gps coordinates are a fixed  pair (latitude, longitude)\n",
        "       you don't want them  accidently modify\n",
        "       tuple are immutable, which makes the data safe and read-only"
      ],
      "metadata": {
        "id": "WJbF6DwBvhkr"
      }
    },
    {
      "cell_type": "markdown",
      "source": [
        "13.**How do sets handle duplicate values in Python**\n",
        "        ans:-handling duplicate values in python depends on what kind data you are working with (list, dict,files,ect)\n",
        "        remove duplicate data from a list\n",
        "        count drplicate values\n",
        "        find only duplicate value\n",
        "        remove duplicate from a list of dictionary by key\n",
        "        remove duplicate lines in a file\n",
        "        "
      ],
      "metadata": {
        "id": "wn_7NFizyMDt"
      }
    },
    {
      "cell_type": "markdown",
      "source": [
        "14.**How does the “in” keyword work differently for lists and dictionaries**\n",
        "       ans:-the in keyword is used to check for membership in a container (like list,dictionaries,sets )\n",
        "       however its behave is  slightly different depending on the data type.\n",
        "       in with a list:check for values.\n",
        "       in with a dictionary:check for key only."
      ],
      "metadata": {
        "id": "oRbsJskqyMIe"
      }
    },
    {
      "cell_type": "markdown",
      "source": [
        "15.**Can you modify the elements of a tuple? Explain why or why not**\n",
        "       ans:-no you can not modify the element of a tuple.\n",
        "       tuple in python are immutable, which means once atuple is created, its element can not be changed,added to, or removed.but you can modify mutable items inside tuple like lists.\n"
      ],
      "metadata": {
        "id": "jsoq9GeYyMK5"
      }
    },
    {
      "cell_type": "markdown",
      "source": [
        "16.**What is a nested dictionary, and give an example of its use case**\n",
        "ans:-  a nested dictionary is the dictionary inside anotherdictionary.it allowed you to store hierarchical or structured data useing key-value  pairs at multiple levels."
      ],
      "metadata": {
        "id": "OSW38uXjvhm_"
      }
    },
    {
      "cell_type": "code",
      "source": [
        "nested_dict = {\n",
        "    \"student1\": {\"name\": \"Vishal\", \"age\": 22},\n",
        "    \"student2\": {\"name\": \"Aman\", \"age\": 23}\n",
        "}"
      ],
      "metadata": {
        "id": "yWU_l2H05DKn"
      },
      "execution_count": 11,
      "outputs": []
    },
    {
      "cell_type": "markdown",
      "source": [],
      "metadata": {
        "id": "k7XP3cDJ5ozd"
      }
    },
    {
      "cell_type": "markdown",
      "source": [],
      "metadata": {
        "id": "VtZ1R4lt5pD6"
      }
    },
    {
      "cell_type": "markdown",
      "source": [
        "17.**Describe the time complexity of accessing elements in a dictionary**\n",
        "       ans:-too many keys hash to the same slot, Python must search linearly through a list of key-value pairs in that slot\n",
        "\t    \tHowever, Python uses smart techniques (like open addressing and dynamic resizing) to minimize collisions."
      ],
      "metadata": {
        "id": "23Yfxkiq5pHZ"
      }
    },
    {
      "cell_type": "code",
      "source": [
        "my_dict = {\"name\": \"Vishal\", \"age\": 25}\n",
        "print(my_dict[\"age\"])  # Accessing value using the key \"age\""
      ],
      "metadata": {
        "colab": {
          "base_uri": "https://localhost:8080/"
        },
        "id": "FDbbjVHj7A91",
        "outputId": "e0122dbb-eb6a-498e-a92c-cfcc4765fb63"
      },
      "execution_count": 12,
      "outputs": [
        {
          "output_type": "stream",
          "name": "stdout",
          "text": [
            "25\n"
          ]
        }
      ]
    },
    {
      "cell_type": "markdown",
      "source": [
        "18.**In what situations are lists preferred over dictionaries**\n",
        "       ans:-While dictionaries (dict) are powerful for key-value mappings, lists (list) are better in certain situations, especially when order and sequence matter.\n",
        "       you need to maintain order\n",
        "       you are working with index or sequences\n",
        "       you want to store duplicates\n",
        "       you are performing shorting or slicing\n",
        "       "
      ],
      "metadata": {
        "id": "CmkaXIJu7aDU"
      }
    },
    {
      "cell_type": "markdown",
      "source": [
        "19.**Why are dictionaries considered unordered, and how does that affect data retrieva**\n",
        "      ans:-Dictionaries were unordered: the order in which you inserted keys was not preserved.If you added keys a, b, c — Python might return them in any order during iteration.\n",
        "      Dictionaries were historically unordered due to their hash-based design.\n",
        "Since Python 3.7, they preserve insertion order, but they are still not sorted.\n",
        "      \tRetrieving a value by key is always reliable\n",
        "     \tLooping through keys now keeps order, but shouldn't be used      where sorting matters."
      ],
      "metadata": {
        "id": "Z4rf8vEQ7aFu"
      }
    },
    {
      "cell_type": "markdown",
      "source": [
        "20.**Explain the difference between a list and a dictionary in terms of data retrieval**\n",
        "       ans:-List Retrieval by Index (Position)\n",
        "        How it works:A list stores items in a sequence.You retrieve data using an index (starting from 0)\n",
        "         Dictionary- Retrieval by Key (Name)\n",
        "            How it works:\n",
        "         \tA dictionary stores data as key-value pairs.\n",
        "\t        You retrieve data using the key, not the position."
      ],
      "metadata": {
        "id": "LYqgb5w07aIF"
      }
    },
    {
      "cell_type": "code",
      "source": [
        "#1. Write a code to create a string with your name and print it\n",
        "name = \"Vishal Singh\"\n",
        "print(\"My name is:\",name)\n"
      ],
      "metadata": {
        "colab": {
          "base_uri": "https://localhost:8080/"
        },
        "id": "U65jPid-_NjI",
        "outputId": "5253ee20-08a4-4226-bc74-655f9190624c"
      },
      "execution_count": 14,
      "outputs": [
        {
          "output_type": "stream",
          "name": "stdout",
          "text": [
            "My name is: Vishal Singh\n"
          ]
        }
      ]
    },
    {
      "cell_type": "code",
      "source": [
        "#2. Write a code to find the length of the string \"Hello World\"\n",
        "text = \"HelloWorld\"\n",
        "length = len(text)\n",
        "print(\"Length of the string is:\", length)"
      ],
      "metadata": {
        "colab": {
          "base_uri": "https://localhost:8080/"
        },
        "id": "hOo2ykH2_rU_",
        "outputId": "88ebc265-302e-4066-a932-0d5a6b29be1a"
      },
      "execution_count": 15,
      "outputs": [
        {
          "output_type": "stream",
          "name": "stdout",
          "text": [
            "Length of the string is: 10\n"
          ]
        }
      ]
    },
    {
      "cell_type": "code",
      "source": [
        "#3.Write a code to slice the first 3 characters from the string \"Python Programming\"\n",
        "text = \"PythonProgramming\"\n",
        "sliced = text[:3]\n",
        "print(\"First three characters:\", sliced)\n",
        "\n"
      ],
      "metadata": {
        "colab": {
          "base_uri": "https://localhost:8080/"
        },
        "id": "WObFd0Rm_rab",
        "outputId": "0244a8a2-d9fc-4fc4-9de1-a78e66351688"
      },
      "execution_count": 16,
      "outputs": [
        {
          "output_type": "stream",
          "name": "stdout",
          "text": [
            "First three characters: Pyt\n"
          ]
        }
      ]
    },
    {
      "cell_type": "code",
      "source": [
        "#4. Write a code to convert the string \"hello\" to uppercase\n",
        "text = \"hello\"\n",
        "upper_text = text.upper()\n",
        "print(\"Uppercase:\", upper_text)\n"
      ],
      "metadata": {
        "colab": {
          "base_uri": "https://localhost:8080/"
        },
        "id": "k3gmzwWu_rdj",
        "outputId": "f20d68be-446a-4caa-8205-dcde615fd529"
      },
      "execution_count": 17,
      "outputs": [
        {
          "output_type": "stream",
          "name": "stdout",
          "text": [
            "Uppercase: HELLO\n"
          ]
        }
      ]
    },
    {
      "cell_type": "code",
      "source": [
        "#5. Write a code to replace the word \"apple\" with \"orange\" in the string \"I like apple\"\n",
        "text = \"I like apple\"\n",
        "new_text = text.replace(\"apple\", \"orange\")\n",
        "print(\"Updated string:\", new_text)"
      ],
      "metadata": {
        "colab": {
          "base_uri": "https://localhost:8080/"
        },
        "id": "DRQ5VsqA_rfv",
        "outputId": "7ac91eb9-5be0-4513-8bc0-c813a4aa44c0"
      },
      "execution_count": 19,
      "outputs": [
        {
          "output_type": "stream",
          "name": "stdout",
          "text": [
            "Updated string: I like orange\n"
          ]
        }
      ]
    },
    {
      "cell_type": "code",
      "source": [
        "#6. Write a code to create a list with numbers 1 to 5 and print it\n",
        "numbers = [1, 2, 3, 4, 5]\n",
        "print(\"List of numbers:\", numbers)"
      ],
      "metadata": {
        "colab": {
          "base_uri": "https://localhost:8080/"
        },
        "id": "mYBWt7y3_riD",
        "outputId": "d6bb398c-8368-4ca2-96fc-347004defde5"
      },
      "execution_count": 22,
      "outputs": [
        {
          "output_type": "stream",
          "name": "stdout",
          "text": [
            "List of numbers: [1, 2, 3, 4, 5]\n"
          ]
        }
      ]
    },
    {
      "cell_type": "code",
      "source": [
        "#7. Write a code to append the number 10 to the list [1, 2, 3, 4]\n",
        "numbers = [1, 2, 3, 4]\n",
        "numbers.append(10)\n",
        "print(\"Updated list:\", numbers)"
      ],
      "metadata": {
        "colab": {
          "base_uri": "https://localhost:8080/"
        },
        "id": "k1TT8Di__rkX",
        "outputId": "6574ec2b-c72c-4b84-a2ab-0a399702b471"
      },
      "execution_count": 23,
      "outputs": [
        {
          "output_type": "stream",
          "name": "stdout",
          "text": [
            "Updated list: [1, 2, 3, 4, 10]\n"
          ]
        }
      ]
    },
    {
      "cell_type": "code",
      "source": [
        "#8.Write a code to remove the number 3 from the list [1, 2, 3, 4, 5]\n",
        "numbers = [1, 2, 3, 4, 5]\n",
        "numbers.remove(3)\n",
        "print(\"Updated list:\", numbers)"
      ],
      "metadata": {
        "colab": {
          "base_uri": "https://localhost:8080/"
        },
        "id": "cS06ipv0_rmP",
        "outputId": "a8c72e8e-97f0-46fe-a32b-bcf8147ff804"
      },
      "execution_count": 34,
      "outputs": [
        {
          "output_type": "stream",
          "name": "stdout",
          "text": [
            "Updated list: [1, 2, 4, 5]\n"
          ]
        }
      ]
    },
    {
      "cell_type": "code",
      "source": [
        "#9. Write a code to access the second element in the list ['a', 'b', 'c', 'd']\n",
        "my_list = ['a', 'b', 'c', 'd']\n",
        "second_element = my_list[1]\n",
        "print(\"Second element:\", second_element)"
      ],
      "metadata": {
        "colab": {
          "base_uri": "https://localhost:8080/"
        },
        "id": "X80-ok8g_roW",
        "outputId": "92611ba4-b5f4-4a1c-ce3a-404f480dd478"
      },
      "execution_count": 36,
      "outputs": [
        {
          "output_type": "stream",
          "name": "stdout",
          "text": [
            "Second element: b\n"
          ]
        }
      ]
    },
    {
      "cell_type": "code",
      "source": [
        "#10.Write a code to reverse the list [10, 20, 30, 40, 50]\n",
        "my_list = [10, 20, 30, 40, 50]\n",
        "reversed_list = my_list[::-1]\n",
        "print(\"Reversed list:\", reversed_list)\n"
      ],
      "metadata": {
        "colab": {
          "base_uri": "https://localhost:8080/"
        },
        "id": "Wxqerv5v_rp1",
        "outputId": "c2a58a7d-f245-4d0f-aed0-ba37040b96fb"
      },
      "execution_count": 38,
      "outputs": [
        {
          "output_type": "stream",
          "name": "stdout",
          "text": [
            "Reversed list: [50, 40, 30, 20, 10]\n"
          ]
        }
      ]
    },
    {
      "cell_type": "code",
      "source": [
        "#11. Write a code to create a tuple with the elements 100, 200, 300 and print it\n",
        "my_tuple = (100, 200, 300)\n",
        "print(\"Tuple:\", my_tuple)"
      ],
      "metadata": {
        "colab": {
          "base_uri": "https://localhost:8080/"
        },
        "id": "S784a_CWC6WB",
        "outputId": "a0aad298-1769-4173-90a5-5dc1a400187c"
      },
      "execution_count": 40,
      "outputs": [
        {
          "output_type": "stream",
          "name": "stdout",
          "text": [
            "Tuple: (100, 200, 300)\n"
          ]
        }
      ]
    },
    {
      "cell_type": "code",
      "source": [
        "#12. 12. Write a code to access the second-to-last element of the tuple ('red', 'green', 'blue', 'yellow')\n",
        "my_tuple = ('red', 'green', 'blue', 'yellow')\n",
        "second_to_last_element = my_tuple[-2]\n",
        "print(\"Second-to-last element:\", second_to_last_element)"
      ],
      "metadata": {
        "colab": {
          "base_uri": "https://localhost:8080/"
        },
        "id": "wAx4R16CDCT6",
        "outputId": "7ea3d623-b24e-47ca-b581-871323dd01bc"
      },
      "execution_count": 42,
      "outputs": [
        {
          "output_type": "stream",
          "name": "stdout",
          "text": [
            "Second-to-last element: blue\n"
          ]
        }
      ]
    },
    {
      "cell_type": "code",
      "source": [
        "#13. Write a code to find the minimum number in the tuple (10, 20, 5, 15)\n",
        "my_tuple = (10, 20, 5, 15)\n",
        "minimum_number = min(my_tuple)\n",
        "print(\"Minimum number:\", minimum_number)"
      ],
      "metadata": {
        "colab": {
          "base_uri": "https://localhost:8080/"
        },
        "id": "bkl_zlnXDVzr",
        "outputId": "c39f0264-88dc-48df-bec8-ce1a2d8d9c59"
      },
      "execution_count": 44,
      "outputs": [
        {
          "output_type": "stream",
          "name": "stdout",
          "text": [
            "Minimum number: 5\n"
          ]
        }
      ]
    },
    {
      "cell_type": "code",
      "source": [
        "#14.Write a code to find the index of the element \"cat\" in the tuple ('dog', 'cat', 'rabbit')\n",
        "my_tuple = ('dog', 'cat', 'rabbit')\n",
        "index_of_cat = my_tuple.index('cat')\n",
        "print(\"Index of 'cat':\", index_of_cat)"
      ],
      "metadata": {
        "colab": {
          "base_uri": "https://localhost:8080/"
        },
        "id": "9IDxCQTYDV-O",
        "outputId": "81dace08-e59c-432a-eca5-d0af0bb2d85f"
      },
      "execution_count": 46,
      "outputs": [
        {
          "output_type": "stream",
          "name": "stdout",
          "text": [
            "Index of 'cat': 1\n"
          ]
        }
      ]
    },
    {
      "cell_type": "code",
      "source": [
        "#15.Write a code to create a tuple containing three different fruits and check if \"kiwi\" is in it\n",
        "fruits_tuple = (\"apple\", \"banana\", \"orange\")\n",
        "is_kiwi_in_tuple = \"kiwi\" in fruits_tuple\n",
        "print(\"Is 'kiwi' in the tuple?\", is_kiwi_in_tuple)"
      ],
      "metadata": {
        "colab": {
          "base_uri": "https://localhost:8080/"
        },
        "id": "8-Rwa53CDWAw",
        "outputId": "fe087983-a5ca-486c-93ed-75b64bd1ea0c"
      },
      "execution_count": 48,
      "outputs": [
        {
          "output_type": "stream",
          "name": "stdout",
          "text": [
            "Is 'kiwi' in the tuple? False\n"
          ]
        }
      ]
    },
    {
      "cell_type": "code",
      "source": [
        "#16.Write a code to create a set with the elements 'a', 'b', 'c' and print it\n",
        "my_set = {'a', 'b', 'c'}\n",
        "print(\"Set:\", my_set)"
      ],
      "metadata": {
        "colab": {
          "base_uri": "https://localhost:8080/"
        },
        "id": "XBVN8DLFDWEm",
        "outputId": "f10e00fc-9513-4358-df8e-72541132f8fd"
      },
      "execution_count": 49,
      "outputs": [
        {
          "output_type": "stream",
          "name": "stdout",
          "text": [
            "Set: {'c', 'a', 'b'}\n"
          ]
        }
      ]
    },
    {
      "cell_type": "code",
      "source": [
        "#17.Write a code to clear all elements from the set {1, 2, 3, 4, 5}\n",
        "my_set = {1, 2, 3, 4, 5}\n",
        "my_set.clear()\n",
        "print(\"Cleared set:\", my_set)"
      ],
      "metadata": {
        "colab": {
          "base_uri": "https://localhost:8080/"
        },
        "id": "q3KsgdXMDWG_",
        "outputId": "b793d32a-5474-4f7a-827c-80bfa9a51b35"
      },
      "execution_count": 50,
      "outputs": [
        {
          "output_type": "stream",
          "name": "stdout",
          "text": [
            "Cleared set: set()\n"
          ]
        }
      ]
    },
    {
      "cell_type": "code",
      "source": [
        "#18. Write a code to remove the element 4 from the set {1, 2, 3, 4}\n",
        "my_set = {1, 2, 3, 4}\n",
        "my_set.remove(4)\n",
        "print(\"Updated set:\", my_set)"
      ],
      "metadata": {
        "colab": {
          "base_uri": "https://localhost:8080/"
        },
        "id": "NN2p9cqsEHU4",
        "outputId": "a3ab15dd-e3b1-48da-e847-4c798ad4bdf0"
      },
      "execution_count": 52,
      "outputs": [
        {
          "output_type": "stream",
          "name": "stdout",
          "text": [
            "Updated set: {1, 2, 3}\n"
          ]
        }
      ]
    },
    {
      "cell_type": "code",
      "source": [
        "#19. Write a code to find the union of two sets {1, 2, 3} and {3, 4, 5}\n",
        "set1 = {1, 2, 3}\n",
        "set2 = {3, 4, 5}\n",
        "union_set = set1.union(set2)\n",
        "print(\"Union of sets:\", union_set)"
      ],
      "metadata": {
        "colab": {
          "base_uri": "https://localhost:8080/"
        },
        "id": "dT3W4dSfEHXL",
        "outputId": "f91d0098-f948-422b-8ec5-141011fa43e9"
      },
      "execution_count": 53,
      "outputs": [
        {
          "output_type": "stream",
          "name": "stdout",
          "text": [
            "Union of sets: {1, 2, 3, 4, 5}\n"
          ]
        }
      ]
    },
    {
      "cell_type": "code",
      "source": [
        "#20. Write a code to find the intersection of two sets {1, 2, 3} and {2, 3, 4}\n",
        "set1 = {1, 2, 3}\n",
        "set2 = {2, 3, 4}\n",
        "intersection_set = set1.intersection(set2)\n",
        "print(\"Intersection of sets:\", intersection_set)"
      ],
      "metadata": {
        "colab": {
          "base_uri": "https://localhost:8080/"
        },
        "id": "IVVxa7WREHZF",
        "outputId": "65e98fbc-18df-44ce-b7c6-afb457d7689c"
      },
      "execution_count": 54,
      "outputs": [
        {
          "output_type": "stream",
          "name": "stdout",
          "text": [
            "Intersection of sets: {2, 3}\n"
          ]
        }
      ]
    },
    {
      "cell_type": "code",
      "source": [
        "#21. Write a code to create a dictionary with the keys \"name\", \"age\", and \"city\", and print it\n",
        "my_dict = {\n",
        "    \"name\": \"Vishal\",\n",
        "    \"age\": 25,\n",
        "    \"city\": \"kolkata\"\n",
        "}\n",
        "print(\"Dictionary:\", my_dict)"
      ],
      "metadata": {
        "colab": {
          "base_uri": "https://localhost:8080/"
        },
        "id": "aGQaKD9wEHdJ",
        "outputId": "23b85356-1f61-4c39-87c6-06702adc7583"
      },
      "execution_count": 56,
      "outputs": [
        {
          "output_type": "stream",
          "name": "stdout",
          "text": [
            "Dictionary: {'name': 'Vishal', 'age': 25, 'city': 'kolkata'}\n"
          ]
        }
      ]
    },
    {
      "cell_type": "code",
      "source": [
        "#22. Write a code to add a new key-value pair \"country\": \"USA\" to the dictionary {'name': 'John', 'age': 25}\n",
        "my_dict = {'name': 'John', 'age': 25}\n",
        "my_dict[\"country\"] = \"USA\"\n",
        "print(\"Updated dictionary:\", my_dict)"
      ],
      "metadata": {
        "colab": {
          "base_uri": "https://localhost:8080/"
        },
        "id": "b8nv33aFEHi7",
        "outputId": "7de65ed9-0994-4d55-f643-68a5008a0f17"
      },
      "execution_count": 57,
      "outputs": [
        {
          "output_type": "stream",
          "name": "stdout",
          "text": [
            "Updated dictionary: {'name': 'John', 'age': 25, 'country': 'USA'}\n"
          ]
        }
      ]
    },
    {
      "cell_type": "code",
      "source": [
        "#23. Write a code to access the value associated with the key \"name\" in the dictionary {'name': 'Alice', 'age': 30}\n",
        "my_dict = {'name': 'Alice', 'age': 30}\n",
        "name_value = my_dict[\"name\"]\n",
        "print(\"Value associated with 'name':\", name_value)"
      ],
      "metadata": {
        "colab": {
          "base_uri": "https://localhost:8080/"
        },
        "id": "eAbEdlHDEHle",
        "outputId": "676b64dc-e5b9-44c7-d3a4-9b56aa41ae0c"
      },
      "execution_count": 59,
      "outputs": [
        {
          "output_type": "stream",
          "name": "stdout",
          "text": [
            "Value associated with 'name': Alice\n"
          ]
        }
      ]
    },
    {
      "cell_type": "code",
      "source": [
        "#24. Write a code to remove the key \"age\" from the dictionary {'name': 'Bob', 'age': 22, 'city': 'New York'}\n",
        "my_dict = {'name': 'Bob', 'age': 22, 'city': 'New York'}\n",
        "del my_dict[\"age\"]\n",
        "print(\"Updated dictionary:\", my_dict)"
      ],
      "metadata": {
        "colab": {
          "base_uri": "https://localhost:8080/"
        },
        "id": "F3oFyD7dEHqH",
        "outputId": "268d5c7f-deb3-446d-9ce0-f029a468d1f0"
      },
      "execution_count": 61,
      "outputs": [
        {
          "output_type": "stream",
          "name": "stdout",
          "text": [
            "Updated dictionary: {'name': 'Bob', 'city': 'New York'}\n"
          ]
        }
      ]
    },
    {
      "cell_type": "code",
      "source": [
        "#25.Write a code to check if the key \"city\" exists in the dictionary {'name': 'Alice', 'city': 'Paris'}\n",
        "my_dict = {'name': 'Alice', 'city': 'Paris'}\n",
        "city_exists = \"city\" in my_dict\n",
        "print(\"Does 'city' exist in the dictionary?\", city_exists)"
      ],
      "metadata": {
        "colab": {
          "base_uri": "https://localhost:8080/"
        },
        "id": "V7ZfaWuXDWI8",
        "outputId": "f9008d36-1d55-4475-8e81-afc60aa9420c"
      },
      "execution_count": 64,
      "outputs": [
        {
          "output_type": "stream",
          "name": "stdout",
          "text": [
            "Does 'city' exist in the dictionary? True\n"
          ]
        }
      ]
    },
    {
      "cell_type": "code",
      "source": [
        "#26. Write a code to create a list, a tuple, and a dictionary, and print them all\n",
        "my_list = [1, 2, 3, 4, 5]\n",
        "my_tuple = (10, 20, 30, 40, 50)"
      ],
      "metadata": {
        "id": "rXwM9qqnFNsr"
      },
      "execution_count": 70,
      "outputs": []
    },
    {
      "cell_type": "code",
      "source": [
        "#27.Write a code to create a list of 5 random numbers between 1 and 100, sort it in ascending order, and print the result.(replaced)\n",
        "import random\n",
        "random_numbers = [random.randint(1, 100) for _ in range(5)]\n",
        "random_numbers.sort()\n",
        "print(\"Sorted list of random numbers:\", random_numbers)"
      ],
      "metadata": {
        "colab": {
          "base_uri": "https://localhost:8080/"
        },
        "id": "PjH5VSdkFNvF",
        "outputId": "472f509a-6ae1-4157-aa9f-b9e1070f21c4"
      },
      "execution_count": 71,
      "outputs": [
        {
          "output_type": "stream",
          "name": "stdout",
          "text": [
            "Sorted list of random numbers: [7, 7, 11, 73, 89]\n"
          ]
        }
      ]
    },
    {
      "cell_type": "code",
      "source": [
        "#28. Write a code to create a list with strings and print the element at the third index\n",
        "my_list = [\"apple\", \"coconut\", \"pineapple\", \"dates\", \"elderberry\"]\n",
        "third_element = my_list[2]\n",
        "print(\"Element at index 2:\", third_element)"
      ],
      "metadata": {
        "colab": {
          "base_uri": "https://localhost:8080/"
        },
        "id": "am-M9uicFNyu",
        "outputId": "3a25d892-5f0b-4430-9ce5-501b402ef35b"
      },
      "execution_count": 74,
      "outputs": [
        {
          "output_type": "stream",
          "name": "stdout",
          "text": [
            "Element at index 2: pineapple\n"
          ]
        }
      ]
    },
    {
      "cell_type": "code",
      "source": [
        "#29.Write a code to combine two dictionaries into one and print the result\n",
        "dict1 = {'a': 1, 'b': 2}\n",
        "dict2 = {'c': 3, 'd': 4}\n",
        "combined_dict = {**dict1, **dict2}\n",
        "print(\"Combined dictionary:\", combined_dict)"
      ],
      "metadata": {
        "colab": {
          "base_uri": "https://localhost:8080/"
        },
        "id": "c2gWkgA2GhhR",
        "outputId": "22f23c35-7597-4f67-f093-9e0565b57f3d"
      },
      "execution_count": 75,
      "outputs": [
        {
          "output_type": "stream",
          "name": "stdout",
          "text": [
            "Combined dictionary: {'a': 1, 'b': 2, 'c': 3, 'd': 4}\n"
          ]
        }
      ]
    },
    {
      "cell_type": "code",
      "source": [
        "#30. Write a code to convert a list of strings into a set\n",
        "my_list = [\"cherry\", \"banana\", \"coconut\", \"banana\"]\n",
        "my_set = set(my_list)\n",
        "print(\"Set from list:\", my_set)\n"
      ],
      "metadata": {
        "colab": {
          "base_uri": "https://localhost:8080/"
        },
        "id": "ixMDaIGFGuc7",
        "outputId": "dfc2ed82-ee69-483c-c657-a6a1da92f0aa"
      },
      "execution_count": 78,
      "outputs": [
        {
          "output_type": "stream",
          "name": "stdout",
          "text": [
            "Set from list: {'coconut', 'banana', 'cherry'}\n"
          ]
        }
      ]
    }
  ]
}